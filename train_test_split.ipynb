{
 "cells": [
  {
   "cell_type": "code",
   "execution_count": null,
   "metadata": {},
   "outputs": [],
   "source": [
    "import numpy as np\n",
    "import matplotlib.pyplot as plt"
   ]
  },
  {
   "cell_type": "code",
   "execution_count": null,
   "metadata": {},
   "outputs": [],
   "source": [
    "#Prepare dataset\n",
    "\n",
    "df = pd.read_csv('/sample.csv', delimiter='\\t')\n",
    "#fill missing value to 0\n",
    "df = df.fillna(0)\n",
    "var = ['ID', 'age', 'sex', 'outcome']\n",
    "#select varible of interest\n",
    "df_var = df[in_var]\n",
    "\n",
    "#convert categorical to numerical\n",
    "df.loc[df['sex'] == 'M', 'sexc'] = 0\n",
    "df.loc[df['sex'] != 'M', 'sexc'] = 1\n",
    "\n",
    "#train test split\n",
    "X,y = [], []    \n",
    "for index, row in df.iterrows():\n",
    "    X += df_var.iloc[[index]].values.tolist()\n",
    "    y += [df['outcome']]\n",
    "\n",
    "## Another way to remove outcome in the var list:\n",
    "# X = pd.DataFrame(X, columns=in_var)\n",
    "# X = X[in_var2]\n",
    "\n",
    "X_train, X_test, y_train, y_test = train_test_split(X, y, test_size=0.30, random_state=42)"
   ]
  },
  {
   "cell_type": "code",
   "execution_count": null,
   "metadata": {},
   "outputs": [],
   "source": [
    "#model development\n",
    "\n",
    "from sklearn import svm\n",
    "from sklearn.linear_model import LogisticRegression\n",
    "from sklearn.neighbors import KNeighborsClassifier\n",
    "from sklearn.ensemble import AdaBoostClassifier, GradientBoostingClassifier\n",
    "from sklearn.ensemble import RandomForestClassifier\n",
    "from sklearn.datasets import make_classification\n",
    "from sklearn.neural_network import MLPClassifier\n",
    "from sklearn.metrics import accuracy_score, precision_score, recall_score, f1_score, roc_auc_score\n",
    "print (len(X_train), len(y_train))\n",
    "\n",
    "\n",
    "\n",
    "models = [MLPClassifier(hidden_layer_sizes=(150,100,50), max_iter=300,activation = 'relu',solver='adam',random_state=1), \\\n",
    "          MLPClassifier(random_state=1, max_iter=300), \n",
    "          RandomForestClassifier(random_state=42), \n",
    "          GradientBoostingClassifier(random_state=42)]#n_estimators=300, learning_rate=1.0, max_depth=1,\n",
    "\n",
    "for mod in models:\n",
    "    # X validation\n",
    "    clf = mod\n",
    "    f1_macro = cross_val_score(clf, X_train, y_train, cv=5, scoring='f1')\n",
    "    precision = cross_val_score(clf, X, y, cv=5, scoring='precision')    \n",
    "    recall = cross_val_score(clf, X, y, cv=5, scoring='recall')\n",
    "    roc_auc = cross_val_score(clf, X_train, y_train, cv=5, scoring='roc_auc')    \n",
    "    accuracy = cross_val_score(clf, X, y, cv=5, scoring='accuracy')   \n",
    "    print(str(mod)[:20],accuracy[3],precision[3],recall[3],f1_macro[3],roc_auc[3])\n",
    "\n",
    "idx = int(len(X_train)*0.85)\n",
    "X_train = X_train[:idx]\n",
    "y_train = y_train[:idx]\n",
    "for mod in models:\n",
    "    clf = mod.fit(X_train, y_train)\n",
    "    y_pred = clf.predict(X_test)\n",
    "    l1=accuracy_score(y_pred, y_test)\n",
    "    l2=precision_score(y_pred, y_test)\n",
    "    l3=recall_score(y_pred, y_test)\n",
    "    l4=f1_score(y_pred, y_test)\n",
    "    l5=roc_auc_score(y_pred, y_test)\n",
    "    print(str(mod)[:15], \"%.2f\" % l1,\"%.2f\" % l2, \"%.2f\" % l3, \"%.2f\" % l4, \"%.2f\" % l5)\n",
    "    \n",
    "    "
   ]
  }
 ],
 "metadata": {
  "kernelspec": {
   "display_name": "Python 3",
   "language": "python",
   "name": "python3"
  },
  "language_info": {
   "codemirror_mode": {
    "name": "ipython",
    "version": 3
   },
   "file_extension": ".py",
   "mimetype": "text/x-python",
   "name": "python",
   "nbconvert_exporter": "python",
   "pygments_lexer": "ipython3",
   "version": "3.7.4"
  }
 },
 "nbformat": 4,
 "nbformat_minor": 2
}
