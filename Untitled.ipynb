{
 "cells": [
  {
   "cell_type": "heading",
   "metadata": {
    "collapsed": true
   },
   "level": 1,
   "source": [
    "Medical Notes Classification\n",
    "\n",
    "In this task, we will label the medical notes samples into one of five clinical domains. Each medical note comes from exactly one of the following five clinical domains:\n",
    "\n",
    "Gastroenterology\n",
    "Neurology\n",
    "Orthopedic\n",
    "Radiology\n",
    "Urology\n"
   ]
  },
  {
   "cell_type": "code",
   "execution_count": 1,
   "metadata": {},
   "outputs": [],
   "source": [
    "import csv\n",
    "import numpy as np\n",
    "from sklearn.svm import SVC\n",
    "from pprint import pprint\n",
    "from time import time\n",
    "from sklearn.feature_extraction.text import CountVectorizer\n",
    "from sklearn.feature_extraction.text import TfidfTransformer\n",
    "from sklearn.model_selection import GridSearchCV\n",
    "from sklearn.pipeline import Pipeline"
   ]
  },
  {
   "cell_type": "code",
   "execution_count": 3,
   "metadata": {},
   "outputs": [],
   "source": [
    "def term_freq_cal():\n",
    "    gastroenterology, neurology, orthopedic, radiology, urology = [], [], [], [], []\n",
    "    stage1_data, label_data = [] , []\n",
    "    f1, f2, f3, f4, f5 = [], [], [], [], []\n",
    "    f11, f22, f33, f44, f55 = 0,0,0,0,0\n",
    "    data_set = []\n",
    "    topics = []\n",
    "    \n",
    "    input_term = open('stage2_data.txt', 'ru')\n",
    "    inputr_term = csv.reader(input_term, delimiter='\\n')\n",
    "    for index, stage1 in enumerate(inputr_term):\n",
    "        if len(stage1) != 0:\n",
    "            stage1_data += stage1\n",
    "        else:\n",
    "            stage1_data += ['']\n",
    "    input_term.close()\n",
    "\n",
    "    input_lable = open('trainLabels.csv', 'ru')\n",
    "    inputr_lable = csv.reader(input_lable, delimiter=',')\n",
    "    for label in inputr_lable:\n",
    "        temp_label = 0\n",
    "        if label[1] == 'Gastroenterology':\n",
    "            temp_label = 0\n",
    "        if label[1] == 'Neurology':\n",
    "            temp_label = 1\n",
    "        if label[1] == 'Orthopedic':\n",
    "            temp_label = 2\n",
    "        if label[1] == 'Radiology':\n",
    "            temp_label = 3\n",
    "        if label[1] == 'Urology':\n",
    "            temp_label = 4\n",
    "        label_data += [temp_label]\n",
    "    input_lable.close()\n",
    "\n",
    "\n",
    "    pipeline = Pipeline([\n",
    "    ('vect', CountVectorizer()),\n",
    "    ('tfidf', TfidfTransformer()),\n",
    "    ('clf', SVC())])\n",
    "    parameters = {\n",
    "    'vect__max_df': (0.55,),\n",
    "    'vect__max_features': (2100,),\n",
    "    'vect__ngram_range': ((1,2),),   \n",
    "    'clf__kernel': ('linear',),\n",
    "    'clf__C': (0.55, ),\n",
    "    }\n",
    "\n",
    "    grid_search = GridSearchCV(pipeline, parameters, cv=5, n_jobs=-1, verbose=1)\n",
    "\n",
    "    print(\"Performing grid search...\")\n",
    "    print(\"pipeline:\", [name for name, _ in pipeline.steps])\n",
    "    print(\"parameters:\")\n",
    "    pprint(parameters)\n",
    "    t0 = time()\n",
    "    \n",
    "    y_train = np.asarray(label_data[:826])\n",
    "\n",
    "    grid_search.fit(stage1_data[:826], label_data[:826])\n",
    "\n",
    "    print(\"done in %0.3fs\" % (time() - t0))\n",
    "    print()\n",
    "\n",
    "    print(\"Best score: %0.3f\" % grid_search.best_score_)\n",
    "    print(\"Best parameters set:\")\n",
    "    best_parameters = grid_search.best_estimator_.get_params()\n",
    "    for param_name in sorted(parameters.keys()):\n",
    "        print(\"\\t%s: %r\" % (param_name, best_parameters[param_name]))\n",
    "\n",
    "\n",
    "    pred = grid_search.predict(stage1_data[826:])\n",
    "\n",
    "    for ii in pred:\n",
    "        if ii == 0:\n",
    "            print ('Gastroenterology')\n",
    "        if ii == 1:\n",
    "            print ('Neurology')\n",
    "        if ii == 2:\n",
    "            print ('Orthopedic')\n",
    "        if ii == 3:\n",
    "            print ('Radiology')\n",
    "        if ii == 4:\n",
    "            print ('Urology')"
   ]
  },
  {
   "cell_type": "code",
   "execution_count": 4,
   "metadata": {
    "collapsed": true
   },
   "outputs": [
    {
     "ename": "ValueError",
     "evalue": "invalid mode: 'ru'",
     "traceback": [
      "\u001b[0;31m---------------------------------------------------------------------------\u001b[0m",
      "\u001b[0;31mValueError\u001b[0m                                Traceback (most recent call last)",
      "\u001b[0;32m<ipython-input-4-eea1e2a539a7>\u001b[0m in \u001b[0;36m<module>\u001b[0;34m()\u001b[0m\n\u001b[0;32m----> 1\u001b[0;31m \u001b[0mterm_freq_cal\u001b[0m\u001b[0;34m(\u001b[0m\u001b[0;34m)\u001b[0m\u001b[0;34m\u001b[0m\u001b[0m\n\u001b[0m",
      "\u001b[0;32m<ipython-input-3-5980e3479f5e>\u001b[0m in \u001b[0;36mterm_freq_cal\u001b[0;34m()\u001b[0m\n\u001b[1;32m      7\u001b[0m     \u001b[0mtopics\u001b[0m \u001b[0;34m=\u001b[0m \u001b[0;34m[\u001b[0m\u001b[0;34m]\u001b[0m\u001b[0;34m\u001b[0m\u001b[0m\n\u001b[1;32m      8\u001b[0m \u001b[0;34m\u001b[0m\u001b[0m\n\u001b[0;32m----> 9\u001b[0;31m     \u001b[0minput_term\u001b[0m \u001b[0;34m=\u001b[0m \u001b[0mopen\u001b[0m\u001b[0;34m(\u001b[0m\u001b[0;34m'stage2_data.txt'\u001b[0m\u001b[0;34m,\u001b[0m \u001b[0;34m'ru'\u001b[0m\u001b[0;34m)\u001b[0m\u001b[0;34m\u001b[0m\u001b[0m\n\u001b[0m\u001b[1;32m     10\u001b[0m     \u001b[0minputr_term\u001b[0m \u001b[0;34m=\u001b[0m \u001b[0mcsv\u001b[0m\u001b[0;34m.\u001b[0m\u001b[0mreader\u001b[0m\u001b[0;34m(\u001b[0m\u001b[0minput_term\u001b[0m\u001b[0;34m,\u001b[0m \u001b[0mdelimiter\u001b[0m\u001b[0;34m=\u001b[0m\u001b[0;34m'\\n'\u001b[0m\u001b[0;34m)\u001b[0m\u001b[0;34m\u001b[0m\u001b[0m\n\u001b[1;32m     11\u001b[0m     \u001b[0;32mfor\u001b[0m \u001b[0mindex\u001b[0m\u001b[0;34m,\u001b[0m \u001b[0mstage1\u001b[0m \u001b[0;32min\u001b[0m \u001b[0menumerate\u001b[0m\u001b[0;34m(\u001b[0m\u001b[0minputr_term\u001b[0m\u001b[0;34m)\u001b[0m\u001b[0;34m:\u001b[0m\u001b[0;34m\u001b[0m\u001b[0m\n",
      "\u001b[0;31mValueError\u001b[0m: invalid mode: 'ru'"
     ],
     "output_type": "error"
    }
   ],
   "source": [
    "term_freq_cal()"
   ]
  },
  {
   "cell_type": "code",
   "execution_count": null,
   "metadata": {},
   "outputs": [],
   "source": [
    ""
   ]
  }
 ],
 "metadata": {
  "kernelspec": {
   "display_name": "Python 3",
   "language": "python",
   "name": "python3"
  },
  "language_info": {
   "codemirror_mode": {
    "name": "ipython",
    "version": 3.0
   },
   "file_extension": ".py",
   "mimetype": "text/x-python",
   "name": "python",
   "nbconvert_exporter": "python",
   "pygments_lexer": "ipython3",
   "version": "3.6.1"
  }
 },
 "nbformat": 4,
 "nbformat_minor": 0
}